{
  "nbformat": 4,
  "nbformat_minor": 0,
  "metadata": {
    "colab": {
      "provenance": [],
      "include_colab_link": true
    },
    "kernelspec": {
      "name": "python3",
      "display_name": "Python 3"
    },
    "language_info": {
      "name": "python"
    }
  },
  "cells": [
    {
      "cell_type": "markdown",
      "metadata": {
        "id": "view-in-github",
        "colab_type": "text"
      },
      "source": [
        "<a href=\"https://colab.research.google.com/github/jintubhuyan-2000/Random/blob/main/MCDA_pyDecisions_13_COPRAS.ipynb\" target=\"_parent\"><img src=\"https://colab.research.google.com/assets/colab-badge.svg\" alt=\"Open In Colab\"/></a>"
      ]
    },
    {
      "cell_type": "code",
      "metadata": {
        "id": "Gk3FjZWa6Rnp"
      },
      "source": [],
      "execution_count": null,
      "outputs": []
    },
    {
      "cell_type": "code",
      "metadata": {
        "id": "z_LkDPkX6Z4u"
      },
      "source": [
        "!pip install pyDecision"
      ],
      "execution_count": null,
      "outputs": []
    },
    {
      "cell_type": "code",
      "metadata": {
        "id": "27nKTx3R6cFj"
      },
      "source": [
        "# Required Libraries\n",
        "import numpy as np\n",
        "\n",
        "from pyDecision.algorithm import copras_method"
      ],
      "execution_count": null,
      "outputs": []
    },
    {
      "cell_type": "code",
      "metadata": {
        "id": "kKplo5Xg6fGL"
      },
      "source": [
        "# COPRAS\n",
        "\n",
        "# Weights\n",
        "weights = [0.28, 0.14, 0.05, 0.24, 0.19, 0.05, 0.05]\n",
        "\n",
        "# Load Criterion Type: 'max' or 'min'\n",
        "criterion_type = ['max', 'max', 'max', 'min', 'min', 'min', 'min']\n",
        "\n",
        "# Dataset\n",
        "dataset = np.array([\n",
        "                    [75.5, 420,\t 74.2,\t2.8,\t21.4,\t0.37,  \t0.16],   #a1\n",
        "                    [95,   91,\t 70,\t  2.68,\t22.1,\t0.33,\t  0.16],   #a2\n",
        "                    [770,  1365, 189,\t  7.9,\t16.9,\t0.04,\t  0.08],   #a3\n",
        "                    [187,  1120, 210,\t  7.9,\t14.4,\t0.03,\t  0.08],   #a4\n",
        "                    [179,  875,\t 112,\t  4.43,\t9.4,\t0.016,\t0.09],   #a5\n",
        "                    [239,  1190, 217,\t  8.51,\t11.5,\t0.31,\t  0.07],   #a6\n",
        "                    [273,  200,\t 112,\t  8.53,\t19.9,\t0.29,\t  0.06]    #a7\n",
        "                    ])"
      ],
      "execution_count": null,
      "outputs": []
    },
    {
      "cell_type": "code",
      "metadata": {
        "colab": {
          "base_uri": "https://localhost:8080/",
          "height": 546
        },
        "id": "wGrRQSZ86jG2",
        "outputId": "325d9022-aad9-4b96-de87-19c1e9d14c40"
      },
      "source": [
        "# Call COPRAS Function\n",
        "rank = copras_method(dataset, weights, criterion_type, graph = True, verbose = True)"
      ],
      "execution_count": null,
      "outputs": [
        {
          "output_type": "stream",
          "name": "stdout",
          "text": [
            "a1: 0.425\n",
            "a2: 0.403\n",
            "a3: 1.0\n",
            "a4: 0.611\n",
            "a5: 0.739\n",
            "a6: 0.624\n",
            "a7: 0.474\n"
          ]
        },
        {
          "output_type": "display_data",
          "data": {
            "text/plain": [
              "<Figure size 640x480 with 1 Axes>"
            ],
            "image/png": "[encoded data removed]"
          },
          "metadata": {}
        }
      ]
    }
  ]
}