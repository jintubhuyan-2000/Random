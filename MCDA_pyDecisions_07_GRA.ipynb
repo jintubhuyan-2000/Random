{
  "nbformat": 4,
  "nbformat_minor": 0,
  "metadata": {
    "colab": {
      "provenance": [],
      "include_colab_link": true
    },
    "kernelspec": {
      "name": "python3",
      "display_name": "Python 3"
    }
  },
  "cells": [
    {
      "cell_type": "markdown",
      "metadata": {
        "id": "view-in-github",
        "colab_type": "text"
      },
      "source": [
        "<a href=\"https://colab.research.google.com/github/jintubhuyan-2000/Random/blob/main/MCDA_pyDecisions_07_GRA.ipynb\" target=\"_parent\"><img src=\"https://colab.research.google.com/assets/colab-badge.svg\" alt=\"Open In Colab\"/></a>"
      ]
    },
    {
      "cell_type": "code",
      "metadata": {
        "id": "WBZ6Dtc2HJcx"
      },
      "source": [],
      "execution_count": null,
      "outputs": []
    },
    {
      "cell_type": "code",
      "metadata": {
        "id": "ZYMtrysuIH3N"
      },
      "source": [
        "!pip install pyDecision"
      ],
      "execution_count": null,
      "outputs": []
    },
    {
      "cell_type": "code",
      "metadata": {
        "id": "pgA_yfhsIHF1"
      },
      "source": [
        "# Required Libraries\n",
        "import numpy as np\n",
        "\n",
        "from pyDecision.algorithm import gra_method"
      ],
      "execution_count": null,
      "outputs": []
    },
    {
      "cell_type": "code",
      "metadata": {
        "id": "CnDNQzwqIRlk"
      },
      "source": [
        "# GRA\n",
        "\n",
        "# Weights\n",
        "weights = [0.35, 0.30, 0.20, 0.15]\n",
        "\n",
        "# Load Criterion Type: 'max' or 'min'\n",
        "criterion_type = ['min', 'max', 'max', 'max']\n",
        "\n",
        "# Dataset\n",
        "dataset = np.array([\n",
        "                [250, 16, 12, 5],   #a1\n",
        "                [200, 16, 8 , 3],   #a2\n",
        "                [300, 32, 16, 4],   #a3\n",
        "                [275, 32, 8 , 4],   #a4\n",
        "                [225, 16, 16, 2]    #a5\n",
        "                ])"
      ],
      "execution_count": null,
      "outputs": []
    },
    {
      "cell_type": "code",
      "metadata": {
        "colab": {
          "base_uri": "https://localhost:8080/",
          "height": 511
        },
        "id": "ssM8pRX-Ia1n",
        "outputId": "bfdd1a18-a0fd-49ea-965d-2a6cba83c1d6"
      },
      "source": [
        "# Call GRA Function\n",
        "gra_grade = gra_method(dataset, criterion_type, weights, epsilon = 0.5, graph = True, verbose = True)"
      ],
      "execution_count": null,
      "outputs": [
        {
          "output_type": "stream",
          "name": "stdout",
          "text": [
            "a1: 0.105\n",
            "a2: 0.1162\n",
            "a3: 0.1413\n",
            "a4: 0.1193\n",
            "a5: 0.1167\n"
          ]
        },
        {
          "output_type": "display_data",
          "data": {
            "text/plain": [
              "<Figure size 640x480 with 1 Axes>"
            ],
            "image/png": "[encoded data removed]"
          },
          "metadata": {}
        }
      ]
    }
  ]
}