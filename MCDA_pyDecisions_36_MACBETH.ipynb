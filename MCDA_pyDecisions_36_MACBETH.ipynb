{
  "nbformat": 4,
  "nbformat_minor": 0,
  "metadata": {
    "colab": {
      "provenance": [],
      "include_colab_link": true
    },
    "kernelspec": {
      "name": "python3",
      "display_name": "Python 3"
    },
    "language_info": {
      "name": "python"
    }
  },
  "cells": [
    {
      "cell_type": "markdown",
      "metadata": {
        "id": "view-in-github",
        "colab_type": "text"
      },
      "source": [
        "<a href=\"https://colab.research.google.com/github/jintubhuyan-2000/Random/blob/main/MCDA_pyDecisions_36_MACBETH.ipynb\" target=\"_parent\"><img src=\"https://colab.research.google.com/assets/colab-badge.svg\" alt=\"Open In Colab\"/></a>"
      ]
    },
    {
      "cell_type": "code",
      "metadata": {
        "id": "VppxvOnixee4"
      },
      "source": [],
      "execution_count": null,
      "outputs": []
    },
    {
      "cell_type": "code",
      "metadata": {
        "id": "qXNuLV741qAH"
      },
      "source": [
        "!pip install pyDecision"
      ],
      "execution_count": null,
      "outputs": []
    },
    {
      "cell_type": "code",
      "metadata": {
        "id": "zD36b1VW5VYL"
      },
      "source": [
        "# Required Libraries\n",
        "import numpy as np\n",
        "\n",
        "from pyDecision.algorithm import macbeth_method"
      ],
      "execution_count": null,
      "outputs": []
    },
    {
      "cell_type": "code",
      "metadata": {
        "id": "1XBfgTZIDrhM"
      },
      "source": [
        "# MACBETH\n",
        "\n",
        "# Weights\n",
        "weights = [0.25, 0.25, 0.25, 0.25]\n",
        "\n",
        "# Load Criterion Type: 'max' or 'min'\n",
        "criterion_type = ['max', 'max', 'max', 'max']\n",
        "\n",
        "# Dataset\n",
        "dataset = np.array([\n",
        "                [6, 8, 4, 7],   #a1\n",
        "                [9, 3, 4, 6],   #a2\n",
        "                [4, 9, 7, 3],   #a3\n",
        "                [8, 2, 5, 8],   #a4\n",
        "                [4, 9, 2, 3],   #a5\n",
        "                [7, 5, 9, 9],   #a6\n",
        "                [9, 6, 3, 1],   #a7\n",
        "                [3, 5, 7, 6],   #a8\n",
        "                [5, 3, 8, 5],   #a9\n",
        "                [4, 6, 3, 8],   #a10\n",
        "                ])"
      ],
      "execution_count": null,
      "outputs": []
    },
    {
      "cell_type": "code",
      "metadata": {
        "id": "cyCyvCXTDt9Z",
        "colab": {
          "base_uri": "https://localhost:8080/",
          "height": 598
        },
        "outputId": "c0bc1e00-1793-40f8-d0e7-36c37f947aa3"
      },
      "source": [
        "# Call MACBETH\n",
        "rank = macbeth_method(dataset, weights, criterion_type, graph = True, verbose = True)"
      ],
      "execution_count": null,
      "outputs": [
        {
          "output_type": "stream",
          "name": "stdout",
          "text": [
            "a1: 0.6\n",
            "a2: 0.51\n",
            "a3: 0.53\n",
            "a4: 0.53\n",
            "a5: 0.35\n",
            "a6: 0.77\n",
            "a7: 0.43\n",
            "a8: 0.44\n",
            "a9: 0.46\n",
            "a10: 0.44\n"
          ]
        },
        {
          "output_type": "display_data",
          "data": {
            "text/plain": [
              "<Figure size 640x480 with 1 Axes>"
            ],
            "image/png": "[encoded data removed]"
          },
          "metadata": {}
        }
      ]
    }
  ]
}