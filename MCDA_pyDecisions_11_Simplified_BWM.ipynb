{
  "nbformat": 4,
  "nbformat_minor": 0,
  "metadata": {
    "colab": {
      "provenance": [],
      "include_colab_link": true
    },
    "kernelspec": {
      "name": "python3",
      "display_name": "Python 3"
    },
    "language_info": {
      "name": "python"
    }
  },
  "cells": [
    {
      "cell_type": "markdown",
      "metadata": {
        "id": "view-in-github",
        "colab_type": "text"
      },
      "source": [
        "<a href=\"https://colab.research.google.com/github/jintubhuyan-2000/Random/blob/main/MCDA_pyDecisions_11_Simplified_BWM.ipynb\" target=\"_parent\"><img src=\"https://colab.research.google.com/assets/colab-badge.svg\" alt=\"Open In Colab\"/></a>"
      ]
    },
    {
      "cell_type": "code",
      "metadata": {
        "id": "NRCxHlK248kv"
      },
      "source": [],
      "execution_count": null,
      "outputs": []
    },
    {
      "cell_type": "code",
      "metadata": {
        "id": "ePAgjpRL5A3r"
      },
      "source": [
        "!pip install pyDecision"
      ],
      "execution_count": null,
      "outputs": []
    },
    {
      "cell_type": "code",
      "metadata": {
        "id": "GRiY7den5Cpo"
      },
      "source": [
        "# Required Libraries\n",
        "import numpy as np\n",
        "\n",
        "from pyDecision.algorithm import simplified_bw_method"
      ],
      "execution_count": null,
      "outputs": []
    },
    {
      "cell_type": "code",
      "metadata": {
        "id": "r0W501dC5H72"
      },
      "source": [
        "# Simplified BWM\n",
        "\n",
        "# Intensity Scale = 1, 2, 3, 4, 5, 6, 7, 8, 9\n",
        "\n",
        "# Most Important Criteria (The Second Criterion is the Best)\n",
        "mic = np.array([2, 1, 4, 3, 8])\n",
        "\n",
        "# Least Important Criteria  (The Fifth Criterion is the Worst)\n",
        "lic = np.array([4, 8, 2, 3, 1])"
      ],
      "execution_count": null,
      "outputs": []
    },
    {
      "cell_type": "code",
      "metadata": {
        "id": "Qcgzx-tJ5QO0"
      },
      "source": [
        "# Call Simplified BWM Function\n",
        "cr, weights = simplified_bw_method(mic, lic, alpha = 0.5, verbose = False)"
      ],
      "execution_count": null,
      "outputs": []
    },
    {
      "cell_type": "code",
      "source": [
        "# Consitency Ratio\n",
        "print('CR:', np.round(cr, 4))"
      ],
      "metadata": {
        "id": "uLMoxmH7PAwG",
        "colab": {
          "base_uri": "https://localhost:8080/"
        },
        "outputId": "9fa88698-8340-4b2d-9010-f123441b61bc"
      },
      "execution_count": null,
      "outputs": [
        {
          "output_type": "stream",
          "name": "stdout",
          "text": [
            "CR: 0.0314\n"
          ]
        }
      ]
    },
    {
      "cell_type": "code",
      "metadata": {
        "id": "8k8iICAv5QXI",
        "colab": {
          "base_uri": "https://localhost:8080/"
        },
        "outputId": "01cfdac0-336b-4011-bdf1-a9c99b96c252"
      },
      "source": [
        "# Weigths\n",
        "for i in range(0, len(weights)):\n",
        "  print('w(g'+str(i+1)+'): ', round(weights[i], 8))"
      ],
      "execution_count": null,
      "outputs": [
        {
          "output_type": "stream",
          "name": "stdout",
          "text": [
            "w(g1):  0.22431866\n",
            "w(g2):  0.44863732\n",
            "w(g3):  0.11215933\n",
            "w(g4):  0.15880503\n",
            "w(g5):  0.05607966\n"
          ]
        }
      ]
    }
  ]
}