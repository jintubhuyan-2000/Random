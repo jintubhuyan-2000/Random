{
  "nbformat": 4,
  "nbformat_minor": 0,
  "metadata": {
    "colab": {
      "provenance": [],
      "include_colab_link": true
    },
    "kernelspec": {
      "name": "python3",
      "display_name": "Python 3"
    },
    "language_info": {
      "name": "python"
    }
  },
  "cells": [
    {
      "cell_type": "markdown",
      "metadata": {
        "id": "view-in-github",
        "colab_type": "text"
      },
      "source": [
        "<a href=\"https://colab.research.google.com/github/jintubhuyan-2000/Random/blob/main/MCDA_pyDecisions_21_MAUT.ipynb\" target=\"_parent\"><img src=\"https://colab.research.google.com/assets/colab-badge.svg\" alt=\"Open In Colab\"/></a>"
      ]
    },
    {
      "cell_type": "code",
      "execution_count": null,
      "metadata": {
        "id": "IFIVn2IM6kVd"
      },
      "outputs": [],
      "source": []
    },
    {
      "cell_type": "code",
      "source": [
        "!pip install pyDecision"
      ],
      "metadata": {
        "id": "uWZZqZHY6o1j"
      },
      "execution_count": null,
      "outputs": []
    },
    {
      "cell_type": "code",
      "source": [
        "# Required Libraries\n",
        "import numpy as np\n",
        "\n",
        "from pyDecision.algorithm import maut_method"
      ],
      "metadata": {
        "id": "wqf3XiwGG6h9"
      },
      "execution_count": null,
      "outputs": []
    },
    {
      "cell_type": "code",
      "source": [
        "# MAUT\n",
        "\n",
        "# Weights\n",
        "weights = [0.297, 0.025, 0.035, 0.076, 0.154, 0.053, 0.104, 0.017, 0.025, 0.214]\n",
        "\n",
        "# Load Criterion Type: 'max' or 'min'\n",
        "criterion_type    = ['max', 'max', 'max', 'max', 'max', 'max', 'max', 'max', 'min', 'min']\n",
        "\n",
        "# Load Utility Functions: 'exp'; 'ln'; 'log'; 'quad' or 'step'\n",
        "utility_functions = ['exp', 'exp', 'exp', 'exp', 'exp', 'exp', 'exp', 'exp', 'step', 'step']\n",
        "\n",
        "# Load Step Size: Only Relevant if 'step' is used\n",
        "step_size = 1\n",
        "\n",
        "# Dataset\n",
        "dataset = np.array([\n",
        "                    [3.5, 6, 1256, 4, 16, 3, 17.3, 8, 2.82, 4100],   #a1\n",
        "                    [3.1, 4, 1000, 2, 8,  1, 15.6, 5, 3.08, 3800],   #a2\n",
        "                    [3.6, 6, 2000, 4, 16, 3, 17.3, 5, 2.9,  4000],   #a3\n",
        "                    [3,   4, 1000, 2, 8,  2, 17.3, 5, 2.6,  3500],   #a4\n",
        "                    [3.3, 6, 1008, 4, 12, 3, 15.6, 8, 2.3,  3800],   #a5\n",
        "                    [3.6, 6, 1000, 2, 16, 3, 15.6, 5, 2.8,  4000],   #a6\n",
        "                    [3.5, 6, 1256, 2, 16, 1, 15.6, 6, 2.9,  4000]    #a7\n",
        "                   ])"
      ],
      "metadata": {
        "id": "z9tbtRnUKbKM"
      },
      "execution_count": null,
      "outputs": []
    },
    {
      "cell_type": "code",
      "source": [
        "# Call MAUT Function\n",
        "rank = maut_method(dataset, weights, criterion_type, utility_functions, step_size, graph = True)"
      ],
      "metadata": {
        "colab": {
          "base_uri": "https://localhost:8080/",
          "height": 546
        },
        "id": "qhuyPi89Kkcx",
        "outputId": "44fa30b0-30cc-4ac2-a743-bb95355e9714"
      },
      "execution_count": null,
      "outputs": [
        {
          "output_type": "stream",
          "name": "stdout",
          "text": [
            "a1: 0.628\n",
            "a2: 0.244\n",
            "a3: 0.982\n",
            "a4: 0.352\n",
            "a5: 0.484\n",
            "a6: 0.767\n",
            "a7: 0.593\n"
          ]
        },
        {
          "output_type": "display_data",
          "data": {
            "text/plain": [
              "<Figure size 640x480 with 1 Axes>"
            ],
            "image/png": "[encoded data removed]"
          },
          "metadata": {}
        }
      ]
    }
  ]
}